{
 "cells": [
  {
   "cell_type": "code",
   "execution_count": 1,
   "id": "1e817fb2",
   "metadata": {},
   "outputs": [
    {
     "data": {
      "text/plain": [
       "3"
      ]
     },
     "execution_count": 1,
     "metadata": {},
     "output_type": "execute_result"
    }
   ],
   "source": [
    "1 * 3"
   ]
  },
  {
   "cell_type": "code",
   "execution_count": 2,
   "id": "196fc0b1",
   "metadata": {},
   "outputs": [
    {
     "name": "stdout",
     "output_type": "stream",
     "text": [
      "9\n"
     ]
    }
   ],
   "source": [
    "def kali(a):\n",
    "    print(a*3)\n",
    "a = kali (3)"
   ]
  },
  {
   "cell_type": "code",
   "execution_count": 4,
   "id": "f67c4704",
   "metadata": {},
   "outputs": [
    {
     "name": "stdout",
     "output_type": "stream",
     "text": [
      "None\n"
     ]
    }
   ],
   "source": [
    "print(a)"
   ]
  },
  {
   "cell_type": "code",
   "execution_count": 5,
   "id": "bd3cd846",
   "metadata": {},
   "outputs": [
    {
     "name": "stdout",
     "output_type": "stream",
     "text": [
      "6\n"
     ]
    }
   ],
   "source": [
    "def kali(a,b):\n",
    "    return a*b\n",
    "print(kali(2,3))\n"
   ]
  },
  {
   "cell_type": "code",
   "execution_count": 7,
   "id": "e378c3d5",
   "metadata": {},
   "outputs": [
    {
     "name": "stdout",
     "output_type": "stream",
     "text": [
      "360\n"
     ]
    }
   ],
   "source": [
    "x = kali(3,4)\n",
    "y = kali(5,6)\n",
    "z = kali(x,y)\n",
    "print(z)"
   ]
  },
  {
   "cell_type": "code",
   "execution_count": 8,
   "id": "f1e80b33",
   "metadata": {},
   "outputs": [],
   "source": [
    "def str_joiner(a,b):\n",
    "    return a + b"
   ]
  },
  {
   "cell_type": "code",
   "execution_count": 9,
   "id": "d56e9377",
   "metadata": {},
   "outputs": [
    {
     "data": {
      "text/plain": [
       "'ayamburung'"
      ]
     },
     "execution_count": 9,
     "metadata": {},
     "output_type": "execute_result"
    }
   ],
   "source": [
    "str_joiner('ayam', 'burung')"
   ]
  },
  {
   "cell_type": "code",
   "execution_count": 26,
   "id": "68084a03",
   "metadata": {},
   "outputs": [
    {
     "data": {
      "text/plain": [
       "' nakaM uaM ayaS'"
      ]
     },
     "execution_count": 26,
     "metadata": {},
     "output_type": "execute_result"
    }
   ],
   "source": [
    "def str_joiner(a,b,c):\n",
    "    a = a.capitalize()\n",
    "    b = b.capitalize()\n",
    "    c = c.capitalize()\n",
    "    return a + b + c\n",
    "str_joiner('saya ', 'mau ', 'makan ') [::-1]\n"
   ]
  },
  {
   "cell_type": "code",
   "execution_count": 28,
   "id": "0a8cb81e",
   "metadata": {},
   "outputs": [
    {
     "name": "stdout",
     "output_type": "stream",
     "text": [
      "20\n",
      "7\n"
     ]
    }
   ],
   "source": [
    "total= 20\n",
    "def function_a(a,b):\n",
    "    total = a+b\n",
    "    return total\n",
    "print(total)\n",
    "print(function_a(2,5))"
   ]
  },
  {
   "cell_type": "code",
   "execution_count": 44,
   "id": "5fb65173",
   "metadata": {},
   "outputs": [],
   "source": [
    "mylist = [31,21,2,56,77,23,12,11,19,20,31,35,17]\n",
    "\n",
    "def func(a):\n",
    "    nGenap = 0\n",
    "    nGanjil = 0\n",
    "    sumGenap = 0\n",
    "    sumGanjil = 0\n",
    "    for i in a:\n",
    "        if i % 2 ==0:\n",
    "            nGenap += 1\n",
    "            sumGenap += 1\n",
    "        else:\n",
    "            nGanjil += 1\n",
    "            sumGanjil += i\n",
    "    print ('n angka ganjil adalah = ' + str(nganjil))\n",
    "    print ('n angka genap adalah = ' + str(nGenap))\n",
    "    print ('n sum angka ganjil adalah = ' + str(sumGanjil))\n",
    "    print ('n sum angka ganjil adalah = ' + str(sumGenap))"
   ]
  },
  {
   "cell_type": "code",
   "execution_count": 48,
   "id": "eaeb6d31",
   "metadata": {},
   "outputs": [
    {
     "name": "stdout",
     "output_type": "stream",
     "text": [
      "Name :  Isma\n",
      "Age :  21\n"
     ]
    }
   ],
   "source": [
    "def printinfo(name,age=21):\n",
    "    print('Name : ',name)\n",
    "    print('Age : ',age)\n",
    "printinfo('Isma')"
   ]
  },
  {
   "cell_type": "code",
   "execution_count": 49,
   "id": "83cdc4cb",
   "metadata": {},
   "outputs": [],
   "source": [
    "def printinfo(x, *vartuple):\n",
    "    print('output is :')\n",
    "    print(x)\n",
    "    print(vartuple)"
   ]
  },
  {
   "cell_type": "code",
   "execution_count": 51,
   "id": "a313e1dd",
   "metadata": {},
   "outputs": [
    {
     "name": "stdout",
     "output_type": "stream",
     "text": [
      "output is :\n",
      "2\n",
      "(5, 6, 7, 'isma', 0)\n"
     ]
    }
   ],
   "source": [
    "printinfo(2,5,6,7,'isma',0)"
   ]
  },
  {
   "cell_type": "markdown",
   "id": "a402149d",
   "metadata": {},
   "source": [
    "Lambda"
   ]
  },
  {
   "cell_type": "code",
   "execution_count": 53,
   "id": "e38c0c63",
   "metadata": {},
   "outputs": [
    {
     "name": "stdout",
     "output_type": "stream",
     "text": [
      "11\n"
     ]
    }
   ],
   "source": [
    "def sum(x,y):\n",
    "    return x + y\n",
    "print(sum(3,8))"
   ]
  },
  {
   "cell_type": "code",
   "execution_count": 56,
   "id": "550b0c78",
   "metadata": {},
   "outputs": [
    {
     "name": "stdout",
     "output_type": "stream",
     "text": [
      "30\n"
     ]
    }
   ],
   "source": [
    "perkalian = lambda x,y:x*y\n",
    "print(perkalian(5,6))"
   ]
  },
  {
   "cell_type": "markdown",
   "id": "e11ad2b2",
   "metadata": {},
   "source": [
    "modules"
   ]
  },
  {
   "cell_type": "code",
   "execution_count": 58,
   "id": "6ed3cec2",
   "metadata": {},
   "outputs": [
    {
     "data": {
      "text/plain": [
       "3.0"
      ]
     },
     "execution_count": 58,
     "metadata": {},
     "output_type": "execute_result"
    }
   ],
   "source": [
    "import numpy as np\n",
    "np.sqrt(9)"
   ]
  },
  {
   "cell_type": "code",
   "execution_count": 59,
   "id": "8b41fb01",
   "metadata": {},
   "outputs": [
    {
     "data": {
      "text/plain": [
       "['In',\n",
       " 'Out',\n",
       " '_',\n",
       " '_1',\n",
       " '_14',\n",
       " '_15',\n",
       " '_17',\n",
       " '_25',\n",
       " '_26',\n",
       " '_30',\n",
       " '_57',\n",
       " '_58',\n",
       " '_9',\n",
       " '__',\n",
       " '___',\n",
       " '__builtin__',\n",
       " '__builtins__',\n",
       " '__doc__',\n",
       " '__loader__',\n",
       " '__name__',\n",
       " '__package__',\n",
       " '__spec__',\n",
       " '_dh',\n",
       " '_i',\n",
       " '_i1',\n",
       " '_i10',\n",
       " '_i11',\n",
       " '_i12',\n",
       " '_i13',\n",
       " '_i14',\n",
       " '_i15',\n",
       " '_i16',\n",
       " '_i17',\n",
       " '_i18',\n",
       " '_i19',\n",
       " '_i2',\n",
       " '_i20',\n",
       " '_i21',\n",
       " '_i22',\n",
       " '_i23',\n",
       " '_i24',\n",
       " '_i25',\n",
       " '_i26',\n",
       " '_i27',\n",
       " '_i28',\n",
       " '_i29',\n",
       " '_i3',\n",
       " '_i30',\n",
       " '_i31',\n",
       " '_i32',\n",
       " '_i33',\n",
       " '_i34',\n",
       " '_i35',\n",
       " '_i36',\n",
       " '_i37',\n",
       " '_i38',\n",
       " '_i39',\n",
       " '_i4',\n",
       " '_i40',\n",
       " '_i41',\n",
       " '_i42',\n",
       " '_i43',\n",
       " '_i44',\n",
       " '_i45',\n",
       " '_i46',\n",
       " '_i47',\n",
       " '_i48',\n",
       " '_i49',\n",
       " '_i5',\n",
       " '_i50',\n",
       " '_i51',\n",
       " '_i52',\n",
       " '_i53',\n",
       " '_i54',\n",
       " '_i55',\n",
       " '_i56',\n",
       " '_i57',\n",
       " '_i58',\n",
       " '_i59',\n",
       " '_i6',\n",
       " '_i7',\n",
       " '_i8',\n",
       " '_i9',\n",
       " '_ih',\n",
       " '_ii',\n",
       " '_iii',\n",
       " '_oh',\n",
       " 'a',\n",
       " 'exit',\n",
       " 'func',\n",
       " 'function_a',\n",
       " 'get_ipython',\n",
       " 'kali',\n",
       " 'mylist',\n",
       " 'np',\n",
       " 'perkalian',\n",
       " 'printinfo',\n",
       " 'quit',\n",
       " 'str_joiner',\n",
       " 'sum',\n",
       " 'total',\n",
       " 'x',\n",
       " 'y',\n",
       " 'z']"
      ]
     },
     "execution_count": 59,
     "metadata": {},
     "output_type": "execute_result"
    }
   ],
   "source": [
    "dir()"
   ]
  },
  {
   "cell_type": "code",
   "execution_count": 61,
   "id": "37380671",
   "metadata": {},
   "outputs": [
    {
     "data": {
      "text/plain": [
       "'C:\\\\ProgramData\\\\Anaconda3\\\\lib\\\\site-packages\\\\numpy\\\\__init__.py'"
      ]
     },
     "execution_count": 61,
     "metadata": {},
     "output_type": "execute_result"
    }
   ],
   "source": [
    "np.__file__"
   ]
  },
  {
   "cell_type": "code",
   "execution_count": 62,
   "id": "99af3c16",
   "metadata": {},
   "outputs": [],
   "source": [
    "import matplotlib.pyplot as plt"
   ]
  },
  {
   "cell_type": "code",
   "execution_count": 3,
   "id": "a68abf21",
   "metadata": {},
   "outputs": [],
   "source": [
    "import numpy as np"
   ]
  },
  {
   "cell_type": "code",
   "execution_count": 5,
   "id": "6c17d8e1",
   "metadata": {},
   "outputs": [
    {
     "name": "stdout",
     "output_type": "stream",
     "text": [
      "[[1 2 3 4 5 6 7 8]]\n"
     ]
    }
   ],
   "source": [
    "array_3 = np.array([[1,2,3,4]])\n",
    "array_4 = np.array([[5,6,7,8]])\n",
    "np.vstack([array_3,array_4])\n",
    "print(np.hstack([array_3,array_4]))"
   ]
  },
  {
   "cell_type": "code",
   "execution_count": 4,
   "id": "d3979362",
   "metadata": {
    "scrolled": true
   },
   "outputs": [
    {
     "data": {
      "text/plain": [
       "array([1, 2, 3, 4, 5, 6, 7, 8])"
      ]
     },
     "execution_count": 4,
     "metadata": {},
     "output_type": "execute_result"
    }
   ],
   "source": [
    "array_5 = np.array([1,2,3,4])\n",
    "array_6 = np.array([5,6,7,8])\n",
    "np.hstack([array_5,array_6])"
   ]
  },
  {
   "cell_type": "code",
   "execution_count": 6,
   "id": "74745141",
   "metadata": {},
   "outputs": [
    {
     "data": {
      "text/plain": [
       "array([1, 2, 3, 4, 5, 6, 7, 8])"
      ]
     },
     "execution_count": 6,
     "metadata": {},
     "output_type": "execute_result"
    }
   ],
   "source": [
    "np.append(array_3,[5,6,7,8])"
   ]
  },
  {
   "cell_type": "code",
   "execution_count": 7,
   "id": "d58f8bab",
   "metadata": {},
   "outputs": [
    {
     "name": "stdout",
     "output_type": "stream",
     "text": [
      "(3, 1)\n"
     ]
    }
   ],
   "source": [
    "#np.newaxis\n",
    "array_4 = np.array([4,5,6])\n",
    "array_4[np.newaxis]\n",
    "print(array_4[:,np.newaxis].shape)"
   ]
  },
  {
   "cell_type": "code",
   "execution_count": 8,
   "id": "c65d9a33",
   "metadata": {},
   "outputs": [
    {
     "name": "stdout",
     "output_type": "stream",
     "text": [
      "[[3]\n",
      " [4]\n",
      " [5]\n",
      " [6]\n",
      " [7]\n",
      " [8]\n",
      " [9]]\n",
      "(7, 1)\n",
      "[[3 4 5 6 7 8 9]]\n",
      "(1, 7)\n"
     ]
    }
   ],
   "source": [
    "#np.expand_dims\n",
    "array_7 = np.array([3,4,5,6,7,8,9])\n",
    "array_8 = np.expand_dims(array_7,axis=1)\n",
    "array_9 = np.expand_dims(array_7,axis=0)\n",
    "print(array_8)\n",
    "print(array_8.shape)\n",
    "print(array_9)\n",
    "print(array_9.shape)"
   ]
  },
  {
   "cell_type": "markdown",
   "id": "8211e104",
   "metadata": {},
   "source": [
    "Operasi matematika pada array sifatnya broadcast"
   ]
  },
  {
   "cell_type": "code",
   "execution_count": 9,
   "id": "8adc359a",
   "metadata": {},
   "outputs": [
    {
     "data": {
      "text/plain": [
       "array([ 6,  8, 10, 12, 14, 16, 18])"
      ]
     },
     "execution_count": 9,
     "metadata": {},
     "output_type": "execute_result"
    }
   ],
   "source": [
    "array_7 = np.array([3,4,5,6,7,8,9])\n",
    "array_7*2"
   ]
  },
  {
   "cell_type": "code",
   "execution_count": 10,
   "id": "62f55e3c",
   "metadata": {},
   "outputs": [
    {
     "data": {
      "text/plain": [
       "array([[-3, -2, -1],\n",
       "       [ 0,  1,  2]])"
      ]
     },
     "execution_count": 10,
     "metadata": {},
     "output_type": "execute_result"
    }
   ],
   "source": [
    "array_10 = np.array([[1,2,3],[4,5,6]])\n",
    "array_10-4"
   ]
  },
  {
   "cell_type": "markdown",
   "id": "057ce8ca",
   "metadata": {},
   "source": [
    "Filtering Array"
   ]
  },
  {
   "cell_type": "code",
   "execution_count": 11,
   "id": "1d670738",
   "metadata": {},
   "outputs": [
    {
     "name": "stdout",
     "output_type": "stream",
     "text": [
      "[6 7 8 9]\n",
      "[8]\n",
      "[3 4]\n"
     ]
    }
   ],
   "source": [
    "array_7 = np.array([3,4,5,6,7,8,9])\n",
    "print(array_7[array_7>5])\n",
    "print(array_7[array_7==8])\n",
    "print(array_7[array_7<=4])"
   ]
  },
  {
   "cell_type": "code",
   "execution_count": 12,
   "id": "2eb55b17",
   "metadata": {},
   "outputs": [
    {
     "name": "stdout",
     "output_type": "stream",
     "text": [
      "[ 7  8  9 10]\n"
     ]
    }
   ],
   "source": [
    "array_11 = np.array([[3,5,7],[8,9,10],[-1,-2,-3]])\n",
    "array_11.shape\n",
    "print(array_11[array_11>5])"
   ]
  },
  {
   "cell_type": "markdown",
   "id": "8c4b6aa3",
   "metadata": {},
   "source": [
    "Hstack, Vstack, hsplit, vsplit"
   ]
  },
  {
   "cell_type": "code",
   "execution_count": 13,
   "id": "66a66c69",
   "metadata": {},
   "outputs": [
    {
     "name": "stdout",
     "output_type": "stream",
     "text": [
      "Stack secara Vertikal\n",
      "[[ 3  4  5  6  7]\n",
      " [ 7  8  9 10 11]]\n",
      "Stack secara Horizontal\n",
      "[ 3  4  5  6  7  7  8  9 10 11]\n"
     ]
    }
   ],
   "source": [
    "#stack\n",
    "array_14 = np.array([3,4,5,6,7])\n",
    "array_15 = np.array([7,8,9,10,11])\n",
    "print('Stack secara Vertikal')\n",
    "print(np.vstack([array_14,array_15]))\n",
    "print('Stack secara Horizontal')\n",
    "print(np.hstack([array_14,array_15]))"
   ]
  },
  {
   "cell_type": "code",
   "execution_count": 14,
   "id": "adf8ac90",
   "metadata": {},
   "outputs": [
    {
     "data": {
      "text/plain": [
       "[array([3, 4, 5]), array([6, 7, 8])]"
      ]
     },
     "execution_count": 14,
     "metadata": {},
     "output_type": "execute_result"
    }
   ],
   "source": [
    "#hsplit\n",
    "array_16 = np.array([3,4,5,6,7,8])\n",
    "array_split = np.hsplit(array_16,2)\n",
    "(array_split)"
   ]
  },
  {
   "cell_type": "code",
   "execution_count": 15,
   "id": "469dc980",
   "metadata": {},
   "outputs": [
    {
     "name": "stdout",
     "output_type": "stream",
     "text": [
      "(2, 4)\n",
      "Horizontal Split\n",
      "[array([[1, 2],\n",
      "       [4, 5]]), array([[3, 4],\n",
      "       [6, 7]])]\n",
      "Vertical Split\n",
      "[array([[1, 2, 3, 4]]), array([[4, 5, 6, 7]])]\n"
     ]
    }
   ],
   "source": [
    "#vsplit\n",
    "array_19 = np.array([[1,2,3,4],[4,5,6,7]])\n",
    "print(array_19.shape)\n",
    "print('Horizontal Split')\n",
    "print(np.hsplit(array_19,2))\n",
    "print('Vertical Split')\n",
    "print(np.vsplit(array_19,2))"
   ]
  },
  {
   "cell_type": "code",
   "execution_count": 16,
   "id": "091f0f1a",
   "metadata": {},
   "outputs": [
    {
     "name": "stdout",
     "output_type": "stream",
     "text": [
      "(2, 6)\n",
      "Horizontal Split\n",
      "[array([[1, 2],\n",
      "       [4, 5]]), array([[3, 4],\n",
      "       [6, 7]]), array([[5, 6],\n",
      "       [5, 6]])]\n",
      "Vertical Split\n"
     ]
    },
    {
     "ename": "ValueError",
     "evalue": "array split does not result in an equal division",
     "output_type": "error",
     "traceback": [
      "\u001b[1;31m---------------------------------------------------------------------------\u001b[0m",
      "\u001b[1;31mValueError\u001b[0m                                Traceback (most recent call last)",
      "\u001b[1;32m~\\AppData\\Local\\Temp\\ipykernel_5488\\2030098379.py\u001b[0m in \u001b[0;36m<module>\u001b[1;34m\u001b[0m\n\u001b[0;32m      5\u001b[0m \u001b[0mprint\u001b[0m\u001b[1;33m(\u001b[0m\u001b[0mnp\u001b[0m\u001b[1;33m.\u001b[0m\u001b[0mhsplit\u001b[0m\u001b[1;33m(\u001b[0m\u001b[0marray_19\u001b[0m\u001b[1;33m,\u001b[0m\u001b[1;36m3\u001b[0m\u001b[1;33m)\u001b[0m\u001b[1;33m)\u001b[0m\u001b[1;33m\u001b[0m\u001b[1;33m\u001b[0m\u001b[0m\n\u001b[0;32m      6\u001b[0m \u001b[0mprint\u001b[0m\u001b[1;33m(\u001b[0m\u001b[1;34m'Vertical Split'\u001b[0m\u001b[1;33m)\u001b[0m\u001b[1;33m\u001b[0m\u001b[1;33m\u001b[0m\u001b[0m\n\u001b[1;32m----> 7\u001b[1;33m \u001b[0mprint\u001b[0m\u001b[1;33m(\u001b[0m\u001b[0mnp\u001b[0m\u001b[1;33m.\u001b[0m\u001b[0mvsplit\u001b[0m\u001b[1;33m(\u001b[0m\u001b[0marray_19\u001b[0m\u001b[1;33m,\u001b[0m\u001b[1;36m3\u001b[0m\u001b[1;33m)\u001b[0m\u001b[1;33m)\u001b[0m\u001b[1;33m\u001b[0m\u001b[1;33m\u001b[0m\u001b[0m\n\u001b[0m",
      "\u001b[1;32m<__array_function__ internals>\u001b[0m in \u001b[0;36mvsplit\u001b[1;34m(*args, **kwargs)\u001b[0m\n",
      "\u001b[1;32mC:\\ProgramData\\Anaconda3\\lib\\site-packages\\numpy\\lib\\shape_base.py\u001b[0m in \u001b[0;36mvsplit\u001b[1;34m(ary, indices_or_sections)\u001b[0m\n\u001b[0;32m    989\u001b[0m     \u001b[1;32mif\u001b[0m \u001b[0m_nx\u001b[0m\u001b[1;33m.\u001b[0m\u001b[0mndim\u001b[0m\u001b[1;33m(\u001b[0m\u001b[0mary\u001b[0m\u001b[1;33m)\u001b[0m \u001b[1;33m<\u001b[0m \u001b[1;36m2\u001b[0m\u001b[1;33m:\u001b[0m\u001b[1;33m\u001b[0m\u001b[1;33m\u001b[0m\u001b[0m\n\u001b[0;32m    990\u001b[0m         \u001b[1;32mraise\u001b[0m \u001b[0mValueError\u001b[0m\u001b[1;33m(\u001b[0m\u001b[1;34m'vsplit only works on arrays of 2 or more dimensions'\u001b[0m\u001b[1;33m)\u001b[0m\u001b[1;33m\u001b[0m\u001b[1;33m\u001b[0m\u001b[0m\n\u001b[1;32m--> 991\u001b[1;33m     \u001b[1;32mreturn\u001b[0m \u001b[0msplit\u001b[0m\u001b[1;33m(\u001b[0m\u001b[0mary\u001b[0m\u001b[1;33m,\u001b[0m \u001b[0mindices_or_sections\u001b[0m\u001b[1;33m,\u001b[0m \u001b[1;36m0\u001b[0m\u001b[1;33m)\u001b[0m\u001b[1;33m\u001b[0m\u001b[1;33m\u001b[0m\u001b[0m\n\u001b[0m\u001b[0;32m    992\u001b[0m \u001b[1;33m\u001b[0m\u001b[0m\n\u001b[0;32m    993\u001b[0m \u001b[1;33m\u001b[0m\u001b[0m\n",
      "\u001b[1;32m<__array_function__ internals>\u001b[0m in \u001b[0;36msplit\u001b[1;34m(*args, **kwargs)\u001b[0m\n",
      "\u001b[1;32mC:\\ProgramData\\Anaconda3\\lib\\site-packages\\numpy\\lib\\shape_base.py\u001b[0m in \u001b[0;36msplit\u001b[1;34m(ary, indices_or_sections, axis)\u001b[0m\n\u001b[0;32m    870\u001b[0m         \u001b[0mN\u001b[0m \u001b[1;33m=\u001b[0m \u001b[0mary\u001b[0m\u001b[1;33m.\u001b[0m\u001b[0mshape\u001b[0m\u001b[1;33m[\u001b[0m\u001b[0maxis\u001b[0m\u001b[1;33m]\u001b[0m\u001b[1;33m\u001b[0m\u001b[1;33m\u001b[0m\u001b[0m\n\u001b[0;32m    871\u001b[0m         \u001b[1;32mif\u001b[0m \u001b[0mN\u001b[0m \u001b[1;33m%\u001b[0m \u001b[0msections\u001b[0m\u001b[1;33m:\u001b[0m\u001b[1;33m\u001b[0m\u001b[1;33m\u001b[0m\u001b[0m\n\u001b[1;32m--> 872\u001b[1;33m             raise ValueError(\n\u001b[0m\u001b[0;32m    873\u001b[0m                 'array split does not result in an equal division') from None\n\u001b[0;32m    874\u001b[0m     \u001b[1;32mreturn\u001b[0m \u001b[0marray_split\u001b[0m\u001b[1;33m(\u001b[0m\u001b[0mary\u001b[0m\u001b[1;33m,\u001b[0m \u001b[0mindices_or_sections\u001b[0m\u001b[1;33m,\u001b[0m \u001b[0maxis\u001b[0m\u001b[1;33m)\u001b[0m\u001b[1;33m\u001b[0m\u001b[1;33m\u001b[0m\u001b[0m\n",
      "\u001b[1;31mValueError\u001b[0m: array split does not result in an equal division"
     ]
    }
   ],
   "source": [
    "#vsplit\n",
    "array_19 = np.array([[1,2,3,4,5,6],[4,5,6,7,5,6]])\n",
    "print(array_19.shape)\n",
    "print('Horizontal Split')\n",
    "print(np.hsplit(array_19,3))\n",
    "print('Vertical Split')\n",
    "print(np.vsplit(array_19,3))"
   ]
  },
  {
   "cell_type": "markdown",
   "id": "a6409b89",
   "metadata": {},
   "source": [
    "Operasi Aritmatika antar 2 array"
   ]
  },
  {
   "cell_type": "code",
   "execution_count": 17,
   "id": "3a23766d",
   "metadata": {},
   "outputs": [
    {
     "name": "stdout",
     "output_type": "stream",
     "text": [
      "[4 6 8]\n"
     ]
    }
   ],
   "source": [
    "array_a = np.array([1,2,3])\n",
    "array_b = np.array([3,4,5])\n",
    "print(array_a+array_b)"
   ]
  },
  {
   "cell_type": "code",
   "execution_count": 18,
   "id": "38e2c5ff",
   "metadata": {},
   "outputs": [
    {
     "name": "stdout",
     "output_type": "stream",
     "text": [
      "[[-5 -5 -5]\n",
      " [-5 -5 -5]]\n"
     ]
    }
   ],
   "source": [
    "array_c = np.array([[1,2,3],[4,5,6]])\n",
    "array_d = np.array([[6,7,8],[9,10,11]])\n",
    "print(array_c-array_d)"
   ]
  },
  {
   "cell_type": "code",
   "execution_count": 19,
   "id": "9dbcfaed",
   "metadata": {},
   "outputs": [
    {
     "name": "stdout",
     "output_type": "stream",
     "text": [
      "6\n",
      "21\n",
      "[5 7 9]\n"
     ]
    }
   ],
   "source": [
    "array_a = np.array([1,2,3])\n",
    "array_b = np.array([3,4,5])\n",
    "array_c = np.array([[1,2,3],[4,5,6]])\n",
    "array_d = np.array([[6,7,8],[9,10,11]])\n",
    "print(array_a.sum())\n",
    "print(array_c.sum())\n",
    "print(array_c.sum(axis=0))"
   ]
  },
  {
   "cell_type": "code",
   "execution_count": 20,
   "id": "a0d34a3f",
   "metadata": {},
   "outputs": [
    {
     "name": "stdout",
     "output_type": "stream",
     "text": [
      "[[1 2 3]\n",
      " [4 5 6]]\n",
      "[5 7 9]\n",
      "[ 6 15]\n"
     ]
    }
   ],
   "source": [
    "array_c = np.array([[1,2,3],[4,5,6]])\n",
    "print(array_c)\n",
    "print(array_c.sum(axis=0))\n",
    "print(array_c.sum(axis=1))"
   ]
  },
  {
   "cell_type": "code",
   "execution_count": 21,
   "id": "c9196834",
   "metadata": {},
   "outputs": [
    {
     "name": "stdout",
     "output_type": "stream",
     "text": [
      "3\n",
      "6\n",
      "[[5 2 3]\n",
      " [4 5 6]]\n",
      "[5 5 6]\n",
      "[4 2 3]\n"
     ]
    }
   ],
   "source": [
    "array_a = np.array([1,2,3])\n",
    "array_b = np.array([3,4,5])\n",
    "array_c = np.array([[5,2,3],[4,5,6]])\n",
    "print(array_a.max())\n",
    "print(array_c.max())\n",
    "print(array_c)\n",
    "print(array_c.max(axis=0))\n",
    "print(array_c.min(axis=0))"
   ]
  },
  {
   "cell_type": "markdown",
   "id": "97f362de",
   "metadata": {},
   "source": [
    "Transposing"
   ]
  },
  {
   "cell_type": "code",
   "execution_count": 22,
   "id": "8992c914",
   "metadata": {},
   "outputs": [
    {
     "name": "stdout",
     "output_type": "stream",
     "text": [
      "[[5 2 3]\n",
      " [4 5 6]]\n",
      "(2, 3)\n"
     ]
    }
   ],
   "source": [
    "array_c = np.array([[5,2,3],[4,5,6]])\n",
    "print(array_c)\n",
    "print(array_c.shape)"
   ]
  },
  {
   "cell_type": "code",
   "execution_count": 23,
   "id": "583c5ae4",
   "metadata": {},
   "outputs": [
    {
     "name": "stdout",
     "output_type": "stream",
     "text": [
      "[[5 4]\n",
      " [2 5]\n",
      " [3 6]]\n",
      "(3, 2)\n"
     ]
    }
   ],
   "source": [
    "print(array_c.T)\n",
    "print(array_c.T.shape)"
   ]
  },
  {
   "cell_type": "code",
   "execution_count": 24,
   "id": "db4ce3ba",
   "metadata": {},
   "outputs": [
    {
     "name": "stdout",
     "output_type": "stream",
     "text": [
      "[[ 1  2  3  4  5]\n",
      " [ 4  5  6  7  8]\n",
      " [ 7  8  9 10 11]]\n",
      "(3, 5)\n"
     ]
    }
   ],
   "source": [
    "array_d = np.array([[1,2,3,4,5],[4,5,6,7,8],[7,8,9,10,11]])\n",
    "print(array_d)\n",
    "print(array_d.shape)"
   ]
  },
  {
   "cell_type": "code",
   "execution_count": 25,
   "id": "225374b2",
   "metadata": {},
   "outputs": [
    {
     "name": "stdout",
     "output_type": "stream",
     "text": [
      "[[ 1  4  7]\n",
      " [ 2  5  8]\n",
      " [ 3  6  9]\n",
      " [ 4  7 10]\n",
      " [ 5  8 11]]\n",
      "(5, 3)\n"
     ]
    }
   ],
   "source": [
    "array_d = np.array([[1,2,3,4,5],[4,5,6,7,8],[7,8,9,10,11]])\n",
    "print(array_d.T)\n",
    "print(array_d.T.shape)"
   ]
  },
  {
   "cell_type": "code",
   "execution_count": 26,
   "id": "7ea11fe1",
   "metadata": {},
   "outputs": [
    {
     "name": "stdout",
     "output_type": "stream",
     "text": [
      "[[37.02038507 73.43158963]\n",
      " [ 4.94380346 38.71606096]\n",
      " [96.74774542 96.62022005]]\n"
     ]
    }
   ],
   "source": [
    "array_random = np.random.random([3,2])*100\n",
    "print(array_random)"
   ]
  },
  {
   "cell_type": "code",
   "execution_count": 27,
   "id": "3309b80a",
   "metadata": {},
   "outputs": [
    {
     "name": "stdout",
     "output_type": "stream",
     "text": [
      "[[[76.90521794 47.29505192 96.50635318]\n",
      "  [49.65126646 12.25938185  4.33879863]]\n",
      "\n",
      " [[ 1.82577808  1.74154061 91.79032444]\n",
      "  [40.53791897 86.6020948  38.96445993]]\n",
      "\n",
      " [[51.43067552 13.50171555 71.41039116]\n",
      "  [23.81007119  4.59295453 80.09663373]]]\n",
      "[76.90521794 47.29505192 96.50635318 49.65126646 12.25938185  4.33879863\n",
      "  1.82577808  1.74154061 91.79032444 40.53791897 86.6020948  38.96445993\n",
      " 51.43067552 13.50171555 71.41039116 23.81007119  4.59295453 80.09663373]\n"
     ]
    }
   ],
   "source": [
    "array_random = np.random.random([3,2,3])*100\n",
    "print(array_random)\n",
    "print(array_random.flatten())"
   ]
  },
  {
   "cell_type": "markdown",
   "id": "3c272a5a",
   "metadata": {},
   "source": [
    "Numpy Math Formulas"
   ]
  },
  {
   "cell_type": "code",
   "execution_count": 28,
   "id": "e2570784",
   "metadata": {},
   "outputs": [
    {
     "name": "stdout",
     "output_type": "stream",
     "text": [
      "[[18.19678992 91.06219141]\n",
      " [83.09369693 19.30662628]\n",
      " [56.42905116 60.52059029]]\n"
     ]
    },
    {
     "data": {
      "text/plain": [
       "328.60894598762974"
      ]
     },
     "execution_count": 28,
     "metadata": {},
     "output_type": "execute_result"
    }
   ],
   "source": [
    "array_random = np.random.random([3,2])*100\n",
    "print(array_random)\n",
    "np.sum(array_random)"
   ]
  },
  {
   "cell_type": "code",
   "execution_count": 30,
   "id": "30b5aafe",
   "metadata": {},
   "outputs": [
    {
     "data": {
      "text/plain": [
       "81"
      ]
     },
     "execution_count": 30,
     "metadata": {},
     "output_type": "execute_result"
    }
   ],
   "source": [
    "np.square(9)\n"
   ]
  },
  {
   "cell_type": "code",
   "execution_count": 31,
   "id": "8498e50f",
   "metadata": {},
   "outputs": [
    {
     "data": {
      "text/plain": [
       "3.0"
      ]
     },
     "execution_count": 31,
     "metadata": {},
     "output_type": "execute_result"
    }
   ],
   "source": [
    "np.sqrt(9)\n"
   ]
  },
  {
   "cell_type": "code",
   "execution_count": 32,
   "id": "331a0e03",
   "metadata": {},
   "outputs": [],
   "source": [
    "a = np.log(1000000)\n"
   ]
  },
  {
   "cell_type": "code",
   "execution_count": 33,
   "id": "92e7f428",
   "metadata": {},
   "outputs": [
    {
     "name": "stdout",
     "output_type": "stream",
     "text": [
      "13.815510557964274\n"
     ]
    }
   ],
   "source": [
    "print(a)\n"
   ]
  },
  {
   "cell_type": "code",
   "execution_count": 34,
   "id": "eb8eb1dd",
   "metadata": {},
   "outputs": [
    {
     "data": {
      "text/plain": [
       "999999.9999999995"
      ]
     },
     "execution_count": 34,
     "metadata": {},
     "output_type": "execute_result"
    }
   ],
   "source": [
    "np.exp(a)"
   ]
  },
  {
   "cell_type": "code",
   "execution_count": 35,
   "id": "58c59ca1",
   "metadata": {},
   "outputs": [
    {
     "data": {
      "text/plain": [
       "array([[0.e+000, 1.e-323],\n",
       "       [2.e-323, 3.e-323]])"
      ]
     },
     "execution_count": 35,
     "metadata": {},
     "output_type": "execute_result"
    }
   ],
   "source": [
    "np.empty((2,2))"
   ]
  },
  {
   "cell_type": "code",
   "execution_count": 36,
   "id": "bbe6f979",
   "metadata": {},
   "outputs": [
    {
     "data": {
      "text/plain": [
       "array([0, 2, 4, 6])"
      ]
     },
     "execution_count": 36,
     "metadata": {},
     "output_type": "execute_result"
    }
   ],
   "source": [
    "np.arange(0,7,2)"
   ]
  },
  {
   "cell_type": "code",
   "execution_count": 37,
   "id": "ddb60d5e",
   "metadata": {},
   "outputs": [],
   "source": [
    "a = np.array([1,2,3,4])"
   ]
  },
  {
   "cell_type": "code",
   "execution_count": 38,
   "id": "4576d833",
   "metadata": {},
   "outputs": [
    {
     "data": {
      "text/plain": [
       "array([[1],\n",
       "       [2],\n",
       "       [3],\n",
       "       [4]])"
      ]
     },
     "execution_count": 38,
     "metadata": {},
     "output_type": "execute_result"
    }
   ],
   "source": [
    "a[:,np.newaxis]"
   ]
  },
  {
   "cell_type": "code",
   "execution_count": null,
   "id": "619337fa",
   "metadata": {},
   "outputs": [],
   "source": []
  }
 ],
 "metadata": {
  "kernelspec": {
   "display_name": "Python 3 (ipykernel)",
   "language": "python",
   "name": "python3"
  },
  "language_info": {
   "codemirror_mode": {
    "name": "ipython",
    "version": 3
   },
   "file_extension": ".py",
   "mimetype": "text/x-python",
   "name": "python",
   "nbconvert_exporter": "python",
   "pygments_lexer": "ipython3",
   "version": "3.9.13"
  }
 },
 "nbformat": 4,
 "nbformat_minor": 5
}
